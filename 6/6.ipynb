{
 "cells": [
  {
   "cell_type": "markdown",
   "metadata": {},
   "source": [
    "Day 6"
   ]
  },
  {
   "cell_type": "code",
   "execution_count": 2,
   "metadata": {},
   "outputs": [],
   "source": [
    "file = open('6.example', 'r')"
   ]
  },
  {
   "cell_type": "code",
   "execution_count": 3,
   "metadata": {},
   "outputs": [
    {
     "name": "stdout",
     "output_type": "stream",
     "text": [
      "pstart: 6, mstart: 23\n"
     ]
    }
   ],
   "source": [
    "\n",
    "buffer = []\n",
    "mbuffer = []\n",
    "count = 0\n",
    "sop = 0\n",
    "som = 0\n",
    "for c in file.read():\n",
    "    count+=1\n",
    "    if len(buffer) < 4:\n",
    "        buffer.append(c)\n",
    " \n",
    "    if len(mbuffer) < 14:\n",
    "        mbuffer.append(c)\n",
    "   \n",
    "    if len(set(buffer)) == 4 and sop == 0:\n",
    "        sop = count\n",
    "    \n",
    "    if len(set(mbuffer)) == 14 and som == 0:\n",
    "        som = count\n",
    "\n",
    "    if len(buffer) == 4:\n",
    "        buffer.pop(0)\n",
    "    \n",
    "    if len(mbuffer) == 14:\n",
    "        mbuffer.pop(0)\n",
    "\n",
    "print(f'pstart: {sop}, mstart: {som}')"
   ]
  }
 ],
 "metadata": {
  "kernelspec": {
   "display_name": "Python 3.10.4 64-bit ('3.10.4')",
   "language": "python",
   "name": "python3"
  },
  "language_info": {
   "codemirror_mode": {
    "name": "ipython",
    "version": 3
   },
   "file_extension": ".py",
   "mimetype": "text/x-python",
   "name": "python",
   "nbconvert_exporter": "python",
   "pygments_lexer": "ipython3",
   "version": "3.10.4"
  },
  "orig_nbformat": 4,
  "vscode": {
   "interpreter": {
    "hash": "81bf64f68c932b40c5c6ea1de6856b9ce15eae29d09dd503c2a0426ee5123099"
   }
  }
 },
 "nbformat": 4,
 "nbformat_minor": 2
}
