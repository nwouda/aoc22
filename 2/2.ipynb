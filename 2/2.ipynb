{
 "cells": [
  {
   "cell_type": "markdown",
   "metadata": {},
   "source": [
    "Set the environment"
   ]
  },
  {
   "cell_type": "code",
   "execution_count": 45,
   "metadata": {},
   "outputs": [],
   "source": [
    "A = 'rock'\n",
    "B = 'paper'\n",
    "C = 'scissors'\n",
    "X = 'lose'\n",
    "Y = 'draw'\n",
    "Z = 'win'\n",
    "scores = {\n",
    "    'rock': 1,\n",
    "    'paper': 2,\n",
    "    'scissors': 3\n",
    "}"
   ]
  },
  {
   "cell_type": "markdown",
   "metadata": {},
   "source": [
    "Read input"
   ]
  },
  {
   "cell_type": "code",
   "execution_count": 48,
   "metadata": {},
   "outputs": [],
   "source": [
    "input = open('2.input', 'r')"
   ]
  },
  {
   "cell_type": "markdown",
   "metadata": {},
   "source": [
    "Game logic"
   ]
  },
  {
   "cell_type": "code",
   "execution_count": 49,
   "metadata": {},
   "outputs": [],
   "source": [
    "def get_score(action, result):\n",
    "    score = 0\n",
    "    if action == 'rock':\n",
    "        score += 1\n",
    "    if action == 'paper':\n",
    "        score += 2\n",
    "    if action == 'scissors':\n",
    "        score += 3\n",
    "    if result == 'tie':\n",
    "        score += 3\n",
    "    if result == 'win':\n",
    "        score += 6\n",
    "    return score\n",
    "\n",
    "def get_result(player1, player2):\n",
    "    if player1 == player2:\n",
    "        return get_score(player2, 'tie')\n",
    "    elif player1 == 'rock' and player2 == 'paper':\n",
    "        return get_score(player2, 'win')\n",
    "    elif player1 == 'paper' and player2 == 'scissors':\n",
    "        return get_score(player2, 'win')\n",
    "    elif player1 == 'scissors' and player2 == 'rock':\n",
    "        return get_score(player2, 'win')\n",
    "    elif player1 == 'paper' and player2 == 'rock':\n",
    "        return get_score(player2, 'lose')\n",
    "    elif player1 == 'rock' and player2 == 'scissors':\n",
    "        return get_score(player2, 'lose')\n",
    "    elif player1 == 'scissors' and player2 == 'paper':\n",
    "        return get_score(player2, 'lose')\n",
    "    else:\n",
    "        print(player1, player2)\n",
    "        print('What is this combo?')\n",
    "        exit(1)\n",
    "\n",
    "def get_response(player1, result):\n",
    "    if result == 'win':\n",
    "        if player1 == 'rock':\n",
    "            return 'paper'\n",
    "        if player1 == 'paper':\n",
    "            return 'scissors'\n",
    "        if player1 == 'scissors':\n",
    "            return 'rock'\n",
    "    if result == 'lose':\n",
    "        if player1 == 'rock':\n",
    "            return 'scissors'\n",
    "        if player1 == 'paper':\n",
    "            return 'rock'\n",
    "        if player1 == 'scissors':\n",
    "            return 'paper'\n",
    "    if result == 'draw':\n",
    "        return player1"
   ]
  },
  {
   "cell_type": "markdown",
   "metadata": {},
   "source": [
    "Iterate over lines"
   ]
  },
  {
   "cell_type": "code",
   "execution_count": 50,
   "metadata": {},
   "outputs": [
    {
     "name": "stdout",
     "output_type": "stream",
     "text": [
      "14979\n"
     ]
    }
   ],
   "source": [
    "total_score = 0\n",
    "for action in input.readlines():\n",
    "    player1 = eval(action.split(' ')[0])\n",
    "    player2 = eval(action.split(' ')[1])\n",
    "    response = get_response(player1, player2)\n",
    "    total_score += get_result(player1, response)\n",
    "print(total_score)"
   ]
  }
 ],
 "metadata": {
  "kernelspec": {
   "display_name": "Python 3.10.4 64-bit ('3.10.4')",
   "language": "python",
   "name": "python3"
  },
  "language_info": {
   "codemirror_mode": {
    "name": "ipython",
    "version": 3
   },
   "file_extension": ".py",
   "mimetype": "text/x-python",
   "name": "python",
   "nbconvert_exporter": "python",
   "pygments_lexer": "ipython3",
   "version": "3.10.4"
  },
  "orig_nbformat": 4,
  "vscode": {
   "interpreter": {
    "hash": "81bf64f68c932b40c5c6ea1de6856b9ce15eae29d09dd503c2a0426ee5123099"
   }
  }
 },
 "nbformat": 4,
 "nbformat_minor": 2
}
