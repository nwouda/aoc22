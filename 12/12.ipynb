{
 "cells": [
  {
   "cell_type": "code",
   "execution_count": 123,
   "metadata": {},
   "outputs": [],
   "source": [
    "input = open('12.input', 'r')\n",
    "\n",
    "map = {}\n",
    "start = ()\n",
    "end = ()\n",
    "\n",
    "for y, line in enumerate(input.readlines()):\n",
    "    line = line.rstrip('\\n')\n",
    "    map[y] = {}\n",
    "    for x, c in enumerate(line):\n",
    "        if c == 'S':\n",
    "            c = 'a'\n",
    "            start = (x, y)\n",
    "        elif c == 'E':\n",
    "            c = 'z'\n",
    "            end = (x, y)\n",
    "        map[y][x] = ord(c)\n"
   ]
  },
  {
   "cell_type": "code",
   "execution_count": 124,
   "metadata": {},
   "outputs": [],
   "source": [
    "def get_dimensions(map):\n",
    "    return (len(map[0].keys())-1, len(map.keys())-3)\n",
    "\n",
    "dimensions = get_dimensions(map)\n",
    "\n",
    "def get_level(x, y):\n",
    "    return map[y][x]"
   ]
  },
  {
   "cell_type": "code",
   "execution_count": 125,
   "metadata": {},
   "outputs": [],
   "source": [
    "\n",
    "def get_adjacent(x, y):\n",
    "    global dimensions\n",
    "    level = get_level(x, y)\n",
    "    adjacent = []\n",
    "    if x < dimensions[0]:\n",
    "        down = (x+1, y)\n",
    "        if get_level(*down) <= level+1:\n",
    "            adjacent.append(down)\n",
    "    if x > 0:\n",
    "        up = (x-1, y)\n",
    "        if get_level(*up) <= level+1:\n",
    "            adjacent.append(up)\n",
    "    if y < dimensions[1]:\n",
    "        right = (x, y+1)\n",
    "        if get_level(*right) <= level+1:\n",
    "            adjacent.append(right)\n",
    "    if y > 0:\n",
    "        left = (x, y-1)\n",
    "        if get_level(*left) <= level+1:\n",
    "            adjacent.append(left)\n",
    "    return adjacent\n"
   ]
  },
  {
   "cell_type": "code",
   "execution_count": 128,
   "metadata": {},
   "outputs": [],
   "source": [
    "def get_distance(node, start, graph):\n",
    "    distance = 0\n",
    "    while node is not start:\n",
    "        node = graph[node]\n",
    "        distance += 1\n",
    "    # print('Shortest distance:', distance)\n",
    "    return distance\n",
    "\n",
    "def find_route(start):\n",
    "    queue = [start]\n",
    "    visited = []\n",
    "    graph = {}\n",
    "    while len(queue) > 0:\n",
    "        current = queue.pop(0)\n",
    "        visited.append(current)\n",
    "        adjacent = get_adjacent(*current)\n",
    "        for node in adjacent:\n",
    "            if node not in visited and node not in queue:\n",
    "                graph[node] = current\n",
    "                queue.append(node)\n",
    "            if node == end:\n",
    "                return get_distance(node, start, graph)\n"
   ]
  },
  {
   "cell_type": "code",
   "execution_count": 130,
   "metadata": {},
   "outputs": [
    {
     "name": "stdout",
     "output_type": "stream",
     "text": [
      "(92, 37) | Route of length 409 found, shortest route so far: 402\r"
     ]
    }
   ],
   "source": [
    "shortest_route = 432\n",
    "for y in range(dimensions[1]):\n",
    "    route = find_route((0,y))\n",
    "    shortest_route = route if route < shortest_route else shortest_route\n",
    "    print(f'{x,y} | Route of length {route} found, shortest route so far: {shortest_route}', end='\\r')\n",
    "    "
   ]
  },
  {
   "cell_type": "code",
   "execution_count": 45,
   "metadata": {},
   "outputs": [],
   "source": [
    "from IPython.display import display, clear_output\n",
    "def draw():\n",
    "    global start\n",
    "    global end\n",
    "    global route\n",
    "    clear_output(wait=True)\n",
    "    for y in range(0, len(map.keys())-2):\n",
    "        for x in range(0, len(map[y])):\n",
    "            if (x, y) in route:\n",
    "                print(' ', end='', flush=False)\n",
    "            elif (x, y) == end:\n",
    "                print('<', end='', flush=False)\n",
    "            elif (x, y) == start:\n",
    "                print('>', end='', flush=False)\n",
    "            else:\n",
    "                print(chr(map[y][x]), end='', flush=False)\n",
    "        print('', flush=False)\n",
    "    "
   ]
  },
  {
   "cell_type": "code",
   "execution_count": 46,
   "metadata": {},
   "outputs": [
    {
     "name": "stdout",
     "output_type": "stream",
     "text": [
      "abacccaaaacccccccccccaaaaaacccccaaaaaaccccaaacccccccccccccccccccccccccccccccccccccccccccaaaaa\n",
      "abaaccaaaacccccccccccaaaaaaccccccaaaaaaaaaaaaaccccccccccccccccccccccccccccccccccccccccccaaaaa\n",
      "abaaccaaaacccccccccccaaaaacccccaaaaaaaaaaaaaaaccccccccccccccccccccccccccccccccccccccccccaaaaa\n",
      "abccccccccccccccccccccaaaaacccaaaaaaaaaaaaaaaacccccccccccccccccccccccccccaaaccccccccccccaaaaa\n",
      "abccccccccccccccccccccaacaacccaaaaaaaaccaaaaaccccccccccccccccccccccccccccaaaccccccccccccaccaa\n",
      "abcccccccccccccaacccaaaccccccaaaaaaaaaccaaaaaccccccccccccccccccc           acccccccccccccccca\n",
      "abcccccccccccaaaaaaccaaaccacccccaaaaaaacccccccccccccccccccccccc  iiiiccccc          ccccccccc\n",
      "abcccccccccccaaaaaaccaaaaaaaccccaaaaaacccccaacccccccaaaccccccc  iiiiiiiicccdddddddd acaaccccc\n",
      "abccccccccccccaaaaaaaaaaaaacccccaaaaaaacaaaacccccccaaaacccccc  hh         cdddddddd  aaaccccc\n",
      "abcccccccccccaaaaaaaaaaaaaacccccccaaacccaaaaaacccccaaaacccccc hh  pppppii         dd  aaccccc\n",
      "abcccccccccccaaaaaaaaaaaaaaccccccccccccccaaaaaccccccaaacccccc h  pppppppiijjjjjjj  dd  accccc\n",
      "abcccccccccccccccccaaaaaaaacccccccccccccaaaaaccccccccccccccc  h pp        jjqqqjjj  ee aacccc\n",
      "abccccccccccccccccccaaaaaaaacccccccccccccccaaccccccccccccccc hh p  uuuupp        jj ee aacccc\n",
      "abcccccccccccccccccccaacccacccccccccccccccccccccccccccccccc  hh o uuuuuuppqqqqqq jj ee cccccc\n",
      "abacccccccccccccaaacaaaccccccccccccccccccccccccccccaacccccc hh  o uu     qvvvvvq qj ee cccccc\n",
      "abaccccccccccccaaaaaacccccaaccccccccccccccccccccccaaaccccc  hh oo u  xxx      vq qk ee cccccc\n",
      "abaccccccccccccaaaaaacccaaaaaaccccccccccccccccccaaaaaaaac  h   oo u xxxxuvyyy vq qk ee cccccc\n",
      "abcccccccccccccaaaaacccaaaaaaaccccccccccccccccccaaaaaaaa  j  oo   u xxxxyyyyy vq qk ee cccccc\n",
      "abccccccccccccccaaaaaacaaaaaaaccccccccaaaccccccccaaaaaa  j  oo  tu  xxxxyyyyy vq kk ee cccccc\n",
      "abccccccccccccccaaaaaaaaaaaaacccccccccaaaacccccccaaaaaa jj oo  t   xxxxxyyyyv rr kk ee cccccc\n",
      ">                   aaaaaaaaacccccccccaaaacccccccaaaaaa jj oo tt xxx   zzyyvv rr kk ff cccccc\n",
      "abcccccccccccaaaccc caaaaaaacaaaccccccaaaccccccccaaccaa jj oo tt xxxxx yyyyyv vr kk ff cccccc\n",
      "abcccccccccaaaaaacc aaaaaacccaaacacccaacccccccccccccccc jj oo tt xxxxy yyyyyy vv rk kf fccccc\n",
      "abcccccccccaaaaaacc aaaaaaaaaaaaaaaccaaacaaacccccaacccc jj nn tt txxxx yyyyyy ww rk kf fccccc\n",
      "abcaacacccccaaaaacc aaacaaaaaaaaaaaccaaaaaaacccccaacaaa jj nn nt  ttx  y      ww rr kf fccccc\n",
      "abcaaaaccccaaaaaccc   cccaacaaaaaaccccaaaaaacccccaaaaac cj jn  nn  tt wy wwwwww  rr lf fccccc\n",
      "abaaaaaccccaaaaaccccc aaaaaccaaaaacaaaaaaaaccccaaaaaacc cj jji  nn  t    w      rr  ll fccccc\n",
      "abaaaaaaccccccccccccc aaaaacaaaaaacaaaaaaaaacccaaaaaaac cc   ii  nn swwww  ssrrrrr ll  fccccc\n",
      "abacaaaaccccccccccccc aaaaaacaaccccaaaaaaaaaaccccaaaaaa cccc  ii  n ssww  sss      ll ffccccc\n",
      "abccaaccccccccccccccc aaaaaaccccccccccaaacaaaccccaaccaa ccccc  ii n      s    llllll  faacccc\n",
      "abccccccccccccccccccc aaaaaaccccccccccaaaccccccccaacccc cccccc  i  msssss  mmlllll   ffaacccc\n",
      "abcccccccccccccccaccc   aaacccccccccccaacccccc          ccccccc ii mmsss  mmm      gggaaacccc\n",
      "abcccccccccaaaaaaaacccc                        aaaaaccccccccccc  i       mm   ggggggaaacccccc\n",
      "abccccccccccaaaaaaccccccccccccccccccaacccccccccaaaaacccccccccccc iimmmmmmm  ggggcaaaaaaaccccc\n",
      "abccccccccccaaaaaacccccccccccccccccaacccccccccaaaaaacccccccccccc  hhmmmm   hgccccccccaacccccc\n",
      "abccccaacaaaaaaaaaaccccccccccccccccaaaccccccccaaaaaaccccccccccccc        hhhaaccccccccccccccc\n",
      "abccccaaaaaaaaaaaaaaccccccccccaaccaaaaccccccccaaaaaacccaaacccccccchhhhhhhhaaaaccccccccccccccc\n",
      "abcccaaaaaaaaaaaaaaaccccccccaaaaaacaaaacacaccccaaaccccaaaacccccccccchhhhccccaaccccccccccaaaca\n",
      "abcccaaaaaacacaaacccccccccccaaaaaaaaaaaaaaacccccccccccaaaacccccccccccaaaccccccccccccccccaaaaa\n"
     ]
    }
   ],
   "source": [
    "draw()"
   ]
  },
  {
   "cell_type": "code",
   "execution_count": 109,
   "metadata": {},
   "outputs": [
    {
     "name": "stdout",
     "output_type": "stream",
     "text": [
      "(90, 37) | Failed route, shortest route so far: 412\r"
     ]
    }
   ],
   "source": [
    "from time import sleep\n",
    "shortest_route = 412\n",
    "for y in range(0, dimensions[1]):\n",
    "    for x in range(0, dimensions[0]):\n",
    "        if get_level(x, y) == 97:\n",
    "            try:\n",
    "                route = find_route((x,y))\n",
    "                shortest_route = route if route < shortest_route else shortest_route\n",
    "                \n",
    "            except:\n",
    "                print(f'{x,y} | Failed route, shortest route so far: {shortest_route}', end='\\r')\n"
   ]
  },
  {
   "cell_type": "code",
   "execution_count": 88,
   "metadata": {},
   "outputs": [
    {
     "ename": "KeyError",
     "evalue": "(0, 0)",
     "output_type": "error",
     "traceback": [
      "\u001b[0;31m---------------------------------------------------------------------------\u001b[0m",
      "\u001b[0;31mKeyError\u001b[0m                                  Traceback (most recent call last)",
      "Cell \u001b[0;32mIn[88], line 1\u001b[0m\n\u001b[0;32m----> 1\u001b[0m graph[(\u001b[39m0\u001b[39;49m,\u001b[39m0\u001b[39;49m)]\n",
      "\u001b[0;31mKeyError\u001b[0m: (0, 0)"
     ]
    }
   ],
   "source": [
    "graph[(0,0)]"
   ]
  }
 ],
 "metadata": {
  "kernelspec": {
   "display_name": "Python 3.10.4 64-bit ('3.10.4')",
   "language": "python",
   "name": "python3"
  },
  "language_info": {
   "codemirror_mode": {
    "name": "ipython",
    "version": 3
   },
   "file_extension": ".py",
   "mimetype": "text/x-python",
   "name": "python",
   "nbconvert_exporter": "python",
   "pygments_lexer": "ipython3",
   "version": "3.10.4 (main, May 24 2022, 14:49:50) [Clang 13.1.6 (clang-1316.0.21.2.5)]"
  },
  "orig_nbformat": 4,
  "vscode": {
   "interpreter": {
    "hash": "81bf64f68c932b40c5c6ea1de6856b9ce15eae29d09dd503c2a0426ee5123099"
   }
  }
 },
 "nbformat": 4,
 "nbformat_minor": 2
}
