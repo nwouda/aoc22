{
 "cells": [
  {
   "cell_type": "code",
   "execution_count": 7,
   "metadata": {},
   "outputs": [],
   "source": [
    "file = open('14.example', 'r')"
   ]
  },
  {
   "cell_type": "code",
   "execution_count": null,
   "metadata": {},
   "outputs": [],
   "source": [
    "file = open('14.input', 'r')"
   ]
  },
  {
   "cell_type": "code",
   "execution_count": 8,
   "metadata": {},
   "outputs": [
    {
     "name": "stdout",
     "output_type": "stream",
     "text": [
      "[[(498, 4), (498, 6), (496, 6)], [(503, 4), (502, 4), (502, 9), (494, 9)]]\n"
     ]
    }
   ],
   "source": [
    "paths = []\n",
    "x_axis = []\n",
    "y_axis = []\n",
    "for line in file.readlines():\n",
    "    line = line.rstrip('\\n')\n",
    "    rawpaths = line.split(' -> ')\n",
    "    path = []\n",
    "    for p in rawpaths:\n",
    "        scan = eval(p)\n",
    "        x_axis.append(scan[0])\n",
    "        y_axis.append(scan[1])\n",
    "        path.append(scan)\n",
    "    paths.append(path)\n",
    "\n",
    "from pprint import pprint\n",
    "pprint(paths)"
   ]
  },
  {
   "cell_type": "code",
   "execution_count": 11,
   "metadata": {},
   "outputs": [
    {
     "name": "stdout",
     "output_type": "stream",
     "text": [
      "494\n",
      "495\n",
      "496\n",
      "497\n",
      "498\n",
      "499\n",
      "500\n",
      "501\n",
      "502\n"
     ]
    }
   ],
   "source": [
    "x_axis.append(500)\n",
    "y_axis.append(0)\n",
    "axis = ((min(x_axis), max(x_axis)), (min(y_axis), max(y_axis)))\n",
    "def draw():\n",
    "    for i, x in enumerate(range(*axis[0])):\n",
    "        print(x)\n",
    "\n",
    "draw()"
   ]
  }
 ],
 "metadata": {
  "kernelspec": {
   "display_name": "Python 3",
   "language": "python",
   "name": "python3"
  },
  "language_info": {
   "codemirror_mode": {
    "name": "ipython",
    "version": 3
   },
   "file_extension": ".py",
   "mimetype": "text/x-python",
   "name": "python",
   "nbconvert_exporter": "python",
   "pygments_lexer": "ipython3",
   "version": "3.10.4"
  },
  "orig_nbformat": 4,
  "vscode": {
   "interpreter": {
    "hash": "81bf64f68c932b40c5c6ea1de6856b9ce15eae29d09dd503c2a0426ee5123099"
   }
  }
 },
 "nbformat": 4,
 "nbformat_minor": 2
}
