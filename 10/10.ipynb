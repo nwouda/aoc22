{
 "cells": [
  {
   "cell_type": "code",
   "execution_count": 35,
   "metadata": {},
   "outputs": [],
   "source": [
    "input = open('10.input', 'r')\n",
    "\n",
    "X = 1\n",
    "cycle = 0\n",
    "cycles = {}\n",
    "\n",
    "for line in input.readlines():\n",
    "    line = line.rstrip('\\n').split(' ')\n",
    "    op = line[0]\n",
    "    if len(line) > 1:\n",
    "        V = int(line[1])\n",
    "\n",
    "    if op == 'noop':\n",
    "        cycle += 1\n",
    "        cycles[cycle] = { 'X': X }\n",
    "        pass\n",
    "    elif op == 'addx':\n",
    "        cycle += 1\n",
    "        cycles[cycle] = { 'X': X }\n",
    "        cycle += 1\n",
    "        cycles[cycle] = { 'X': X }\n",
    "        X += V\n",
    "\n"
   ]
  },
  {
   "cell_type": "code",
   "execution_count": null,
   "metadata": {},
   "outputs": [],
   "source": [
    "\n",
    "print(f'20th: {cycles[20][\"X\"]*20}')\n",
    "print(f'60th: {cycles[60][\"X\"]*60}')\n",
    "print(f'100th: {cycles[100][\"X\"]*100}')\n",
    "print(f'140th: {cycles[140][\"X\"]*140}')\n",
    "print(f'180th: {cycles[180][\"X\"]*180}')\n",
    "print(f'220th: {cycles[220][\"X\"]*220}')\n",
    "\n",
    "print(f'SUM of above: {sum([cycles[20][\"X\"]*20,cycles[60][\"X\"]*60,cycles[100][\"X\"]*100,cycles[140][\"X\"]*140,cycles[180][\"X\"]*180,cycles[220][\"X\"]*220])}')\n",
    "\n",
    "print(f'X: {X}')"
   ]
  },
  {
   "cell_type": "code",
   "execution_count": 36,
   "metadata": {},
   "outputs": [
    {
     "name": "stdout",
     "output_type": "stream",
     "text": [
      "####.#..#.###..####.###....##..##..#....\n",
      "#....#..#.#..#....#.#..#....#.#..#.#....\n",
      "###..####.#..#...#..#..#....#.#....#....\n",
      "#....#..#.###...#...###.....#.#.##.#....\n",
      "#....#..#.#....#....#....#..#.#..#.#....\n",
      "####.#..#.#....####.#.....##...###.####.\n",
      "\n"
     ]
    }
   ],
   "source": [
    "width = 40\n",
    "height = 6\n",
    "\n",
    "for y in range(0, height):\n",
    "    for x in range(0, width):\n",
    "        cycle = y*width+x+1\n",
    "        sprite = [cycles[cycle]['X']-1, cycles[cycle]['X'], cycles[cycle]['X']+1]\n",
    "        # print(x, cycle, sprite)\n",
    "        if x in sprite:\n",
    "            # print('#')\n",
    "            print('#', end='', flush=False)\n",
    "        else:\n",
    "            # print('.')\n",
    "            print('.', end='', flush=False)\n",
    "    print('\\n', end='', flush=False)\n",
    "print('\\n', end='', flush=True)\n",
    "    "
   ]
  },
  {
   "cell_type": "code",
   "execution_count": null,
   "metadata": {},
   "outputs": [],
   "source": []
  }
 ],
 "metadata": {
  "kernelspec": {
   "display_name": "Python 3.10.4 64-bit ('3.10.4')",
   "language": "python",
   "name": "python3"
  },
  "language_info": {
   "codemirror_mode": {
    "name": "ipython",
    "version": 3
   },
   "file_extension": ".py",
   "mimetype": "text/x-python",
   "name": "python",
   "nbconvert_exporter": "python",
   "pygments_lexer": "ipython3",
   "version": "3.10.4 (main, May 24 2022, 14:49:50) [Clang 13.1.6 (clang-1316.0.21.2.5)]"
  },
  "orig_nbformat": 4,
  "vscode": {
   "interpreter": {
    "hash": "81bf64f68c932b40c5c6ea1de6856b9ce15eae29d09dd503c2a0426ee5123099"
   }
  }
 },
 "nbformat": 4,
 "nbformat_minor": 2
}
