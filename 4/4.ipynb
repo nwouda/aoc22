{
 "cells": [
  {
   "cell_type": "code",
   "execution_count": 34,
   "metadata": {},
   "outputs": [],
   "source": [
    "input = open('4.input')\n",
    "counter = 0\n",
    "for pairs in input.readlines():\n",
    "    elf1 = pairs.split(',')[0].split('-')\n",
    "    elf2 = pairs.split(',')[1].split('-')\n",
    "    elf1 = list(range(int(elf1[0]), int(elf1[1])+1))\n",
    "    elf2 = list(range(int(elf2[0]), int(elf2[1])+1))\n",
    "    if set(elf1) <= set(elf2) or set(elf2) <= set(elf1):\n",
    "        counter += 1\n"
   ]
  },
  {
   "cell_type": "code",
   "execution_count": 35,
   "metadata": {},
   "outputs": [],
   "source": [
    "input = open('4.input')\n",
    "counter = 0\n",
    "for pairs in input.readlines():\n",
    "    elf1 = pairs.split(',')[0].split('-')\n",
    "    elf2 = pairs.split(',')[1].split('-')\n",
    "    elf1 = list(range(int(elf1[0]), int(elf1[1])+1))\n",
    "    elf2 = list(range(int(elf2[0]), int(elf2[1])+1))\n",
    "    for e1 in elf1:\n",
    "        if e1 in elf2:\n",
    "            counter += 1\n",
    "            break\n"
   ]
  }
 ],
 "metadata": {
  "kernelspec": {
   "display_name": "Python 3.10.4 64-bit ('3.10.4')",
   "language": "python",
   "name": "python3"
  },
  "language_info": {
   "codemirror_mode": {
    "name": "ipython",
    "version": 3
   },
   "file_extension": ".py",
   "mimetype": "text/x-python",
   "name": "python",
   "nbconvert_exporter": "python",
   "pygments_lexer": "ipython3",
   "version": "3.10.4"
  },
  "orig_nbformat": 4,
  "vscode": {
   "interpreter": {
    "hash": "81bf64f68c932b40c5c6ea1de6856b9ce15eae29d09dd503c2a0426ee5123099"
   }
  }
 },
 "nbformat": 4,
 "nbformat_minor": 2
}
